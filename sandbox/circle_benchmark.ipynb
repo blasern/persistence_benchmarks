{
 "cells": [
  {
   "cell_type": "code",
   "execution_count": null,
   "metadata": {
    "scrolled": true
   },
   "outputs": [],
   "source": [
    "import numpy as np\n",
    "import pandas as pd\n",
    "import matplotlib.pyplot as plt\n",
    "\n",
    "from ripser import ripser\n",
    "from dowker_homology.persistence import Persistence\n",
    "import gudhi\n",
    "from persim import plot_diagrams\n",
    "\n",
    "from persistence_benchmarks.benchmark_data import PersistenceDiagramBenchmark\n",
    "from persistence_benchmarks.noise import normal_noise\n",
    "\n",
    "%matplotlib inline"
   ]
  },
  {
   "cell_type": "code",
   "execution_count": null,
   "metadata": {},
   "outputs": [],
   "source": [
    "# benchmark\n",
    "pb = PersistenceDiagramBenchmark(shape='circle', \n",
    "                                 sampling='noise', \n",
    "                                 noise_distribution=normal_noise(sd=0.1))"
   ]
  },
  {
   "cell_type": "code",
   "execution_count": null,
   "metadata": {},
   "outputs": [],
   "source": [
    "# generate benchmark data\n",
    "X = pb.sample(n=100)\n",
    "target = pb.target()"
   ]
  },
  {
   "cell_type": "code",
   "execution_count": null,
   "metadata": {},
   "outputs": [],
   "source": [
    "# calculate diagrams from data\n",
    "extrinsic_dimension = X.shape[1]\n",
    "dimension = 1\n",
    "# rips complex\n",
    "dgms_rips = ripser(X, maxdim=dimension)['dgms']\n",
    "# ambient Cech complex\n",
    "dgms_dh = Persistence(dissimilarity='ambient', dimension=dimension).persistent_homology(X)\n",
    "# alpha complex\n",
    "persistence_alpha = gudhi.AlphaComplex(points=X).create_simplex_tree().persistence()\n",
    "dgms_alpha = [np.array([p[1] for p in persistence_alpha if p[0]==0]), \n",
    "              np.array([p[1] for p in persistence_alpha if p[0]==1])]"
   ]
  },
  {
   "cell_type": "code",
   "execution_count": null,
   "metadata": {},
   "outputs": [],
   "source": [
    "# bottleneck distances\n",
    "bottleneck_distances = {'rips': [], \n",
    "                        'dh': [], \n",
    "                        'alpha': []}\n",
    "for i in range(2):\n",
    "    bottleneck_distances['rips'].append(gudhi.bottleneck_distance(target[i], dgms_rips[i]))\n",
    "    bottleneck_distances['dh'].append(gudhi.bottleneck_distance(target[i], dgms_dh[i]))\n",
    "    bottleneck_distances['alpha'].append(gudhi.bottleneck_distance(target[i], dgms_alpha[i]))\n",
    "    \n",
    "print(pd.DataFrame(bottleneck_distances))"
   ]
  },
  {
   "cell_type": "code",
   "execution_count": null,
   "metadata": {},
   "outputs": [],
   "source": [
    "# plot persistence diagrams\n",
    "plt.subplots(figsize = (10, 10))\n",
    "for ix, dgm in enumerate([target, dgms_rips, dgms_dh, dgms_alpha]):\n",
    "    plt.subplot(2, 2, ix + 1)\n",
    "    plot_diagrams(dgm)"
   ]
  }
 ],
 "metadata": {
  "kernelspec": {
   "display_name": "Python 3",
   "language": "python",
   "name": "python3"
  },
  "language_info": {
   "codemirror_mode": {
    "name": "ipython",
    "version": 3
   },
   "file_extension": ".py",
   "mimetype": "text/x-python",
   "name": "python",
   "nbconvert_exporter": "python",
   "pygments_lexer": "ipython3",
   "version": "3.6.8"
  }
 },
 "nbformat": 4,
 "nbformat_minor": 2
}
